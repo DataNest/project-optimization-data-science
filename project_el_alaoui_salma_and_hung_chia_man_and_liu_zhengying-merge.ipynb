{
 "cells": [
  {
   "cell_type": "markdown",
   "metadata": {},
   "source": [
    "# PROJECT: Course Optimization for Data Science\n",
    "## Optimization strategies for Support Vector Machines (SVM)"
   ]
  },
  {
   "cell_type": "markdown",
   "metadata": {},
   "source": [
    "Authors: Alexandre Gramfort, Stéphane Gaiffas\n",
    "\n",
    "If you have questions or if something is not clear in the text below please contact us\n",
    "by email.\n",
    "\n",
    "## Aim:\n",
    "\n",
    "- derive the duals for SVMs with and without intercept\n",
    "- implement an SVM using a blackbox convex toolbox (cvxopt in Python)\n",
    "- implement your own solvers for the without intercept case: Proximal gradient, Coordinate Descent, Newton, Quasi-Newton\n",
    "- Present a clear benchmark of the different strategies on small and medium scale datasets\n",
    "\n",
    "\n",
    "## VERY IMPORTANT\n",
    "\n",
    "This work must be done by pairs of students.\n",
    "Each student must send their work before the 3rd of January at 23:59, using the moodle platform.\n",
    "This means that **each student in the pair sends the same file**\n",
    "\n",
    "On the moodle, in the \"Optimization for Data Science\" course, you have a \"devoir\" section called \"Project\".\n",
    "This is where you submit your jupyter notebook file.\n",
    "\n",
    "The name of the file must be constructed as in the next cell\n",
    "\n",
    "### Gentle reminder: no evaluation if you don't respect this EXACTLY\n",
    "\n",
    "#### How to construct the name of your file"
   ]
  },
  {
   "cell_type": "code",
   "execution_count": 21,
   "metadata": {
    "collapsed": false
   },
   "outputs": [
    {
     "name": "stdout",
     "output_type": "stream",
     "text": [
      "project_el_alaoui_salma_and_hung_chia_man_and_liu_zhengying.ipynb\n"
     ]
    }
   ],
   "source": [
    "# Change here using YOUR first and last names\n",
    "fn1 = \"salma\"\n",
    "ln1 = \"el_alaoui\"\n",
    "fn2 = \"chia_man\"\n",
    "ln2 = \"hung\"\n",
    "fn3 = \"zhengying\"\n",
    "ln3 = \"liu\"\n",
    "\n",
    "filename = \"_\".join(map(lambda s: s.strip().lower(), \n",
    "                        [\"project\", ln1, fn1, \"and\", ln2, fn2, \"and\", ln3, fn3])) + \".ipynb\"\n",
    "print(filename)"
   ]
  },
  {
   "cell_type": "markdown",
   "metadata": {},
   "source": [
    "Some imports"
   ]
  },
  {
   "cell_type": "code",
   "execution_count": 22,
   "metadata": {
    "collapsed": false
   },
   "outputs": [],
   "source": [
    "%matplotlib inline\n",
    "import numpy as np\n",
    "from scipy import linalg\n",
    "import time\n",
    "import matplotlib.pyplot as plt"
   ]
  },
  {
   "cell_type": "markdown",
   "metadata": {},
   "source": [
    "## Important:\n",
    "\n",
    "For Part 0 to Part 2 of the project you will need a working install of `cvxopt`.\n",
    "You may struggle a bit to set it up.\n",
    "The simplest way of getting it is by typing \n",
    "\n",
    "`pip install cvxopt`\n",
    "\n",
    "if you have `pip` installed on your laptop.\n",
    "If you **struggle too much please\n",
    "contact us**."
   ]
  },
  {
   "cell_type": "markdown",
   "metadata": {},
   "source": [
    "## Part 0: SVM Classification with linear kernel"
   ]
  },
  {
   "cell_type": "markdown",
   "metadata": {},
   "source": [
    "Let us consider the problem of binary classification from $n$ observations\n",
    "$x_i \\in \\mathbb{R}^{d}$,\n",
    "$1 \\leq i \\leq n$. We aim to learn a function:\n",
    "$$f: x \\in \\mathbb{R}^{d}\\mapsto y\\in\\{-1,+1\\}$$\n",
    "from the $n$ annotated training samples $(x_{i},y_{i})$ supposed i.i.d. from an unknown probability distribution on $\\mathbb{R}^d \\times \\{-1,+1\\}$. Once this function is learnt, it will be possible to use it to predict the label $y$ associated to a new sample $x$."
   ]
  },
  {
   "cell_type": "markdown",
   "metadata": {},
   "source": [
    "Margin and linear separating hyperplane:\n",
    "\n",
    "<img src=\"separateur.png\">"
   ]
  },
  {
   "cell_type": "markdown",
   "metadata": {},
   "source": [
    "In the linear case, one looks for an affine function of $x$ of the form \n",
    "$f(x) = \\mathrm{sign}(w^{\\top} x)$ or $f(x)=\\mathrm{sign}(w^{\\top}x + b)$\n",
    "with $w \\in \\mathbb{R}^d$ and $b \\in \\mathbb{R}$. The first case is referred\n",
    "to as the **without intercept** case. Indeed the coefficient $b$ is known\n",
    "as the intercept or bias term.\n",
    "\n",
    "We will start by considering the case with intercept.\n",
    "\n",
    "To learn $f$, we use the $n$ annotated samples and one looks for a hyperplane $P(w,b)$\n",
    "such that the smallest distance to positive and negative samples\n",
    "is the largest. This can be written as:\n",
    "$$\n",
    " \\max_{w,b} \\min_{i=1:n} y_i \\delta(x_{i},P(w,b)) \\quad\n",
    " \\text{where}\\quad \\delta(x_{i},w,b) = \\frac{w^{\\top}x_{i}+b}{\\sqrt{w^{\\top}w}} \\enspace,\n",
    "$$\n",
    "since the signed distance from a sample $x_{i}$ to the hyperplane $P(w,b)$ is given by\n",
    "$\n",
    "\\delta(x_{i},w,b)\n",
    "$.\n",
    "The principle described above is the maximisation of the *margin*."
   ]
  },
  {
   "cell_type": "markdown",
   "metadata": {},
   "source": [
    "One can notice that if the minimum of a set of values is larger than $m$ than all values of the set are larger than $m$. This leads to the following problem formulation:\n",
    "$$\n",
    " \\left\\{\n",
    " \\begin{array}{cll}\n",
    " \\max_{(w,b)} \\quad m \\\\\n",
    " \\text{s.t.} \\;\\; &\\forall i &y_i\\dfrac{w^{\\top}x_{i}+b}{\\sqrt{w^{\\top}w}}\\geq m\n",
    " \\end{array}\n",
    " \\right. \\enspace .\n",
    "$$\n",
    "\n",
    "The hyperplane separates the space in 2 half spaces, depending if $\\delta(x_{i},w,b)$ is positive or negative."
   ]
  },
  {
   "cell_type": "markdown",
   "metadata": {},
   "source": [
    "Assuming all samples are linearly separable, convince yourself that the problem can be written as:\n",
    "$$\n",
    "(\\mathcal{P}):  \\left\\{\n",
    " \\begin{array}{cll}\n",
    " &\\min_{(w,b)} \\frac{1}{2}w^{\\top}w\n",
    " \\\\\n",
    "  &y_{i}(w^{\\top}x_{i}+b)\\geq 1, \\quad \\forall i\\in \\{1,\\cdots,n\\}\n",
    " \\end{array}\n",
    " \\right.\n",
    "$$"
   ]
  },
  {
   "cell_type": "markdown",
   "metadata": {},
   "source": [
    "### Questions"
   ]
  },
  {
   "cell_type": "markdown",
   "metadata": {},
   "source": [
    "- Q1: Justify that the problem $(\\mathcal{P})$ is convex."
   ]
  },
  {
   "cell_type": "markdown",
   "metadata": {},
   "source": [
    "- A1: We can rewrite the problem as\n",
    "$$\n",
    "(\\mathcal{P}):  \\left\\{\n",
    " \\begin{array}{cll}\n",
    " &\\min_{(w,b)} J(w,b)\n",
    " \\\\\n",
    "  &F_i(w,b)\\leq 0, \\quad \\forall i\\in \\{1,\\cdots,n\\}\n",
    " \\end{array}\n",
    " \\right.\n",
    "$$\n",
    "where $J(w,b)=\\frac{1}{2}w^{\\top}w$ and $F_i(w,b)=1-y_{i}(w^{\\top}x_{i}+b)$. We see that $J(w)$ is quadratic and definite positive thus convex. $F_i(w)$ are affine and thus convex too.\n",
    "\n",
    "In conclusion, the problem $(\\mathcal{P})$ is convex."
   ]
  },
  {
   "cell_type": "markdown",
   "metadata": {},
   "source": [
    "- Q2: By looking at the saddle points of the Lagrangian $\\mathcal{L}(w, b, \\mu)$, $\\mu \\in \\mathbb{R}_+^n$, show that the dual problem $(\\mathcal{D})$ can be written as:\n",
    "$$\n",
    "(\\mathcal{D}): \n",
    " \\left\\{\n",
    " \\begin{array}{lll}\n",
    " \\min_{\\mu} &\\frac{1}{2}\\mu^{\\top}GG^{t}\\mu-\\mu^{\\top}u\n",
    " \\\\\n",
    " \\mathrm{s.c.}& y^{\\top}\\mu = 0\n",
    " \\\\\n",
    " \\mathrm{and}& -\\mu \\leq  0\n",
    " \\end{array}\n",
    " \\right .\n",
    "$$\n",
    "\n",
    "with\n",
    "\n",
    "$$\n",
    " G = \\begin{bmatrix}y_{1}x_{1}^{\\top} \\\\ \\vdots \\\\ y_{n}x_{n}^{\\top}\\end{bmatrix}\n",
    "$$\n",
    "\n",
    "and $u = (1, \\dots, 1) \\in \\mathbb{R}^n$.\n",
    "\n",
    "We will **assume here qualification of the contraints**.\n",
    "\n",
    "Remark: The problem $(\\mathcal{D})$ is a *quadratic program* (QP) for which their exist off-the-shelf techniques. See below."
   ]
  },
  {
   "cell_type": "markdown",
   "metadata": {},
   "source": [
    "- A2: \n",
    "The Lagrangian is given by\n",
    "$$\n",
    "L(w,b,\\mu) = J(w,b)+\\mu \\cdot F(w,b)\n",
    "$$\n",
    "Because $\\mathcal{P}$ is convex (by Q1), and the constaints are qualified, by applying the KKT theorem, there exists saddle points $(w^{*}, \\mu^{*})$ such that $w^{*}$ are solutions to the primal problem and $\\mu^{*}$ are solutions to the dual problem. The dual problem reads:\n",
    "$$\n",
    "\\begin{cases}\n",
    "\\max_{\\mu} H(\\mu) \\\\\n",
    "\\mu \\geq 0\n",
    "\\end{cases}\n",
    "$$\n",
    "where\n",
    "$$\n",
    "H(\\mu) = \\min_{w,b} L(w,b,\\mu)\n",
    "$$\n",
    "To get the explicit formula of $H$ we have\n",
    "$$\n",
    "\\begin{cases}\n",
    "\\frac{\\partial}{\\partial w} L(w,b,\\mu) = 0 \\\\\n",
    "\\frac{\\partial}{\\partial b} L(w,b,\\mu) = 0\n",
    "\\end{cases}\n",
    "$$\n",
    "from which we have\n",
    "$$\n",
    "\\begin{cases}\n",
    "w - G^\\top \\mu = 0 \\\\\n",
    "- \\mu \\cdot y = 0\n",
    "\\end{cases}\n",
    "$$\n",
    "Then for $H$ we have\n",
    "$$\n",
    "H(\\mu) = \\frac{1}{2} \\mu^\\top G G^\\top \\mu + \\mu \\cdot (u - G G^\\top \\mu - y) = -\\frac{1}{2} \\mu^\\top G G^\\top \\mu + \\mu ^\\top u\n",
    "$$\n",
    "Thus the dual problem can be written as\n",
    "$$\n",
    "(\\mathcal{D}):\n",
    "\\begin{cases}\n",
    "\\min_{\\mu} \\frac{1}{2} \\mu^\\top G G^\\top \\mu - \\mu ^\\top u \\\\\n",
    "y^\\top \\mu = 0\\\\\n",
    "-\\mu \\leq 0\n",
    "\\end{cases}\n",
    "$$"
   ]
  },
  {
   "cell_type": "markdown",
   "metadata": {},
   "source": [
    "- Q3: Justify that given the estimated $\\mu$, the prediction function for a new sample $x$ is given by:\n",
    "\n",
    "$$\n",
    "y = \\mathrm{sign}(\\sum_{i=1}^{n} \\mu_i y_i x_i^\\top x + b) \\enspace .\n",
    "$$\n",
    "\n",
    "The vector $w$ is therefore equal to $\\sum_{i=1}^{n} \\mu_i y_i x_i$"
   ]
  },
  {
   "cell_type": "markdown",
   "metadata": {},
   "source": [
    "- A3:\n",
    "From Q2 we have\n",
    "$$w = G^\\top \\mu$$\n",
    "where $G^\\top = [y_1 x_1,...,y_n x_n]$. Thus\n",
    "$$ w = \\sum_{i=1}^n \\mu_i y_i x_i$$\n",
    "And the prediction function $f(x)=\\mathrm{sign}(w^{\\top}x + b)$ is then given by\n",
    "$$\n",
    "f(x) = \\mathrm{sign}(\\sum_{i=1}^{n} \\mu_i y_i x_i^\\top x + b) \\enspace .\n",
    "$$"
   ]
  },
  {
   "cell_type": "markdown",
   "metadata": {},
   "source": [
    "## Part 1: Implementation of solver with intercept using cvxopt"
   ]
  },
  {
   "cell_type": "markdown",
   "metadata": {},
   "source": [
    "The file svm_project_utils.py contains the code to generate some toy data and plot them"
   ]
  },
  {
   "cell_type": "code",
   "execution_count": 23,
   "metadata": {
    "collapsed": false
   },
   "outputs": [],
   "source": [
    "from svm_project_utils import plot_dataset, datasets"
   ]
  },
  {
   "cell_type": "code",
   "execution_count": 24,
   "metadata": {
    "collapsed": false
   },
   "outputs": [
    {
     "data": {
      "image/png": "[encoded data removed]",
      "text/plain": [
       "<matplotlib.figure.Figure at 0x10dc07940>"
      ]
     },
     "metadata": {},
     "output_type": "display_data"
    }
   ],
   "source": [
    "X, y = datasets(name='gaussian', n_points=300)\n",
    "plot_dataset(X, y)"
   ]
  },
  {
   "cell_type": "markdown",
   "metadata": {},
   "source": [
    "- The following function qp allows to solve a quadratic problem of the form:\n",
    "\n",
    "$$\n",
    "\\left\\{\n",
    "  \\begin{array}{cll}\n",
    "  &\\min_{(x)} \\frac{1}{2}x^{\\top} H x - e^\\top x\n",
    "  \\\\\n",
    "   & \\textrm{s.c.}\\; A^\\top x = b, 0 \\leq x \\leq C.\n",
    "  \\end{array}\n",
    "  \\right.\n",
    "$$"
   ]
  },
  {
   "cell_type": "code",
   "execution_count": 25,
   "metadata": {
    "collapsed": false
   },
   "outputs": [],
   "source": [
    "import cvxopt\n",
    "\n",
    "\n",
    "def qp(H, e, A, b, C=np.inf, l=1e-8, verbose=True):\n",
    "    # Gram matrix\n",
    "    n = H.shape[0]\n",
    "    H = cvxopt.matrix(H)\n",
    "    A = cvxopt.matrix(y, (1, n))\n",
    "    e = cvxopt.matrix(-e)\n",
    "    b = cvxopt.matrix(0.0)\n",
    "    if C == np.inf:\n",
    "        G = cvxopt.matrix(np.diag(np.ones(n) * -1))\n",
    "        h = cvxopt.matrix(np.zeros(n))\n",
    "    else:\n",
    "        G = cvxopt.matrix(np.concatenate([np.diag(np.ones(n) * -1),\n",
    "                                         np.diag(np.ones(n))], axis=0))\n",
    "        h = cvxopt.matrix(np.concatenate([np.zeros(n), C * np.ones(n)]))\n",
    "\n",
    "    # Solve QP problem\n",
    "    cvxopt.solvers.options['show_progress'] = verbose\n",
    "    solution = cvxopt.solvers.qp(H, e, G, h, A, b)\n",
    " \n",
    "    # Lagrange multipliers\n",
    "    mu = np.ravel(solution['x'])\n",
    "    return mu"
   ]
  },
  {
   "cell_type": "markdown",
   "metadata": {},
   "source": [
    "Definition of the linear kernel:"
   ]
  },
  {
   "cell_type": "code",
   "execution_count": 26,
   "metadata": {
    "collapsed": true
   },
   "outputs": [],
   "source": [
    "def kernel(X1, X2):\n",
    "    n1 = X1.shape[0]\n",
    "    n2 = X2.shape[0]\n",
    "    K = np.empty((n1, n2))\n",
    "    for i in range(n1):\n",
    "        for j in range(n2):\n",
    "            K[i, j] = np.dot(X1[i], X2[j])\n",
    "    return K"
   ]
  },
  {
   "cell_type": "markdown",
   "metadata": {},
   "source": [
    "### Questions\n",
    "\n",
    "- Q4: Modify the following cell to solve the SVM dual problem:"
   ]
  },
  {
   "cell_type": "code",
   "execution_count": 27,
   "metadata": {
    "collapsed": false
   },
   "outputs": [
    {
     "name": "stdout",
     "output_type": "stream",
     "text": [
      "Number of support vectors: 2\n"
     ]
    },
    {
     "data": {
      "image/png": "[encoded data removed]",
      "text/plain": [
       "<matplotlib.figure.Figure at 0x110f50b00>"
      ]
     },
     "metadata": {},
     "output_type": "display_data"
    }
   ],
   "source": [
    "n = 300\n",
    "X, y = datasets(name='gaussian', n_points=n, sigma=0.7)\n",
    "plot_dataset(X, y)\n",
    "\n",
    "def svm_solver(K, y, C=np.inf):\n",
    "    H = (y * K).T * y\n",
    "    e = np.ones(y.shape[0])\n",
    "    A = y\n",
    "    b = 0\n",
    "    mu = qp(H, e, A, b, C, l=1e-8, verbose=False)\n",
    "    idx_support = np.where(np.abs(mu) > 1e-5)[0]\n",
    "    mu_support = mu[idx_support]\n",
    "    return mu_support, idx_support\n",
    "\n",
    "K = kernel(X, X)\n",
    "\n",
    "# Uncomment the following lines when your svm_solver is completed:\n",
    "mu_support, idx_support = svm_solver(K, y)\n",
    "print(\"Number of support vectors: %s\" % idx_support.size)"
   ]
  },
  {
   "cell_type": "markdown",
   "metadata": {},
   "source": [
    "- Q5: Compute w from mu and b"
   ]
  },
  {
   "cell_type": "code",
   "execution_count": 28,
   "metadata": {
    "collapsed": true
   },
   "outputs": [],
   "source": [
    "w = np.sum((mu_support * y[idx_support])[: , None] * X[idx_support], axis=0)"
   ]
  },
  {
   "cell_type": "markdown",
   "metadata": {},
   "source": [
    "- Q6: Using complementary slackness, explain how to obtain $b$ from $\\mu$.\n",
    "\n",
    "HINT: Use the fact that for all support vectors for which $\\mu_i$ is non-zero one has $y_{i}(w^{t}x_{i}+b) = 1$.\n",
    "\n",
    "- A6: \n",
    "\n",
    "According to the complementary slackness KKT condition, we have: \n",
    "$ \\mu_j(y_{j}(w^{t}x_{j}+b) - 1) = 0 $ for all data points j.\n",
    "\n",
    "For all support vectors i we have $\\mu_i > 0$ and therefore $y_{i}(w^{t}x_{i}+b) - 1 = 0$\n",
    "\n",
    "Since $y_i\\in\\{-1,+1\\}$:\n",
    "\n",
    "$$ b = y_i - w^{t}x_{i} $$\n",
    "\n",
    "and we have that $w = G^{T}\\mu = \\sum_{i=1}^{n} y_j \\mu_j x_j$, therefore: \n",
    "\n",
    "$$b = y_i - \\sum_{i=1}^{n} y_j \\mu_j x_j^T x_i$$ where $i$ is a support vector."
   ]
  },
  {
   "cell_type": "code",
   "execution_count": 29,
   "metadata": {
    "collapsed": false
   },
   "outputs": [
    {
     "name": "stdout",
     "output_type": "stream",
     "text": [
      "0.551006899084\n"
     ]
    }
   ],
   "source": [
    "def compute_b(K, y, mu_support, idx_support):\n",
    "    mu = np.zeros(K.shape[0])\n",
    "    mu[idx_support] = mu_support\n",
    "    i = idx_support[0]\n",
    "    y_i = y[i] \n",
    "    #b = y_i - np.sum((y * mu)* K[i, :], axis = 0)\n",
    "    b = y_i - np.sum((y[idx_support] * mu_support) * K[i, idx_support], axis = 0)\n",
    "    return b\n",
    "\n",
    "b = compute_b(K, y, mu_support, idx_support)\n",
    "print(b)"
   ]
  },
  {
   "cell_type": "markdown",
   "metadata": {},
   "source": [
    "- Q7: Verify that the constraints of the primal problem are satistified up to an acceptable numerical precision. You should verify that for all $i$ we have:\n",
    "\n",
    "$$\n",
    "y_{i}(w^{\\top}x_{i}+b) \\geq 1 - \\epsilon\n",
    "$$\n",
    "\n",
    "using for example $\\epsilon = 1e-5$."
   ]
  },
  {
   "cell_type": "code",
   "execution_count": 30,
   "metadata": {
    "collapsed": false
   },
   "outputs": [
    {
     "name": "stdout",
     "output_type": "stream",
     "text": [
      "True\n"
     ]
    }
   ],
   "source": [
    "positive = y * (np.dot(X, w) + b*np.ones(n)) - 1 + 1e-5\n",
    "print(np.all(positive >= 0))"
   ]
  },
  {
   "cell_type": "markdown",
   "metadata": {},
   "source": [
    "Check your code by running the following cell:"
   ]
  },
  {
   "cell_type": "code",
   "execution_count": 31,
   "metadata": {
    "collapsed": false
   },
   "outputs": [
    {
     "data": {
      "image/png": "[encoded data removed]",
      "text/plain": [
       "<matplotlib.figure.Figure at 0x10eefa828>"
      ]
     },
     "metadata": {},
     "output_type": "display_data"
    }
   ],
   "source": [
    "X, y = datasets(name='gaussian', n_points=300, sigma=0.7)\n",
    "\n",
    "K = kernel(X, X)\n",
    "mu_support, idx_support = svm_solver(K, y)\n",
    "b = compute_b(K, y, mu_support, idx_support)\n",
    "\n",
    "def plot_classif(X, y, mu_support, idx_support, b, kernel=kernel):\n",
    "    # Calcul de la fonction de décision sur une grille\n",
    "    X1, X2 = np.mgrid[-4:4:0.1, -4:4:0.1]\n",
    "    na, nb = X1.shape\n",
    "    X_test = np.c_[np.reshape(X1, (na * nb, 1)),\n",
    "                   np.reshape(X2, (na * nb, 1))]\n",
    "\n",
    "    # Calcul des produits scalaires\n",
    "    X_support = X[idx_support]\n",
    "    G = kernel(X_test, X_support)\n",
    "    # Calcul de la fonction de décision\n",
    "    decision = G.dot(mu_support * y[idx_support]) + b\n",
    "\n",
    "    # Calcul du label prédit\n",
    "    y_pred = np.sign(decision)\n",
    "\n",
    "    # Affichage des lignes de niveau de la fonction de decision\n",
    "    plt.contourf(X1, X2, np.reshape(decision, (na, nb)), 20, cmap=plt.cm.gray)\n",
    "    cs = plt.contour(X1, X2, np.reshape(decision, (na,nb)), [-1, 0, 1], color='g', linewidth=2)\n",
    "    plt.clabel(cs, inline=1)\n",
    "    plt.plot(X[y == 1,0], X[y == 1, 1], 'or', linewidth=2)\n",
    "    plt.plot(X[y == -1,0], X[y == -1, 1], 'ob', linewidth=2)\n",
    "    plt.xlabel('x1')\n",
    "    plt.ylabel('x2')\n",
    "    plt.xlim([-4, 4])\n",
    "    plt.ylim([-4, 4])\n",
    "\n",
    "plot_classif(X, y, mu_support, idx_support, b)"
   ]
  },
  {
   "cell_type": "markdown",
   "metadata": {},
   "source": [
    "We will now change the value of $\\sigma$ such that the problem is not linearily separable anymore."
   ]
  },
  {
   "cell_type": "code",
   "execution_count": 32,
   "metadata": {
    "collapsed": false
   },
   "outputs": [
    {
     "data": {
      "image/png": "[encoded data removed]",
      "text/plain": [
       "<matplotlib.figure.Figure at 0x110f50080>"
      ]
     },
     "metadata": {},
     "output_type": "display_data"
    }
   ],
   "source": [
    "X, y = datasets(name='gaussian', n_points=300, sigma=1.5)\n",
    "plot_dataset(X, y)"
   ]
  },
  {
   "cell_type": "code",
   "execution_count": 33,
   "metadata": {
    "collapsed": false
   },
   "outputs": [
    {
     "name": "stdout",
     "output_type": "stream",
     "text": [
      "Terminated (singular KKT matrix).\n"
     ]
    }
   ],
   "source": [
    "K = kernel(X, X)\n",
    "mu_support, idx_support = svm_solver(K, y)\n",
    "b = compute_b(K, y, mu_support, idx_support)\n",
    "w = np.sum((mu_support * y[idx_support])[: , None] * X[idx_support], axis=0)"
   ]
  },
  {
   "cell_type": "markdown",
   "metadata": {},
   "source": [
    "- Q8: Check that contraints of the problem are now violated."
   ]
  },
  {
   "cell_type": "code",
   "execution_count": 34,
   "metadata": {
    "collapsed": false
   },
   "outputs": [
    {
     "name": "stdout",
     "output_type": "stream",
     "text": [
      "False\n"
     ]
    }
   ],
   "source": [
    "positive = y * (np.dot(X, w) + b*np.ones(n)) - 1 + 1e-5\n",
    "print(np.all(positive >= 0))"
   ]
  },
  {
   "cell_type": "markdown",
   "metadata": {},
   "source": [
    "## Part 1: Non separable case with cvxopt"
   ]
  },
  {
   "cell_type": "markdown",
   "metadata": {},
   "source": [
    "In practice it is very likely that the classes are not linearly separable.\n",
    "\n",
    "A very natural idea is to relax the constraints $y_{i}(w^\\top x_i + c) \\geq 1$.\n",
    "To do this, so called soft-margin SVM have been introduced using\n",
    "so called slack variables: $\\xi_{i}\\geq 0$. The problem becomes:\n",
    "\n",
    "$$\n",
    " y_{i}(w^\\top x_i + b) \\geq 1 - \\xi_i, \\; \\xi_i \\geq 0 \\enspace .\n",
    "$$\n",
    "\n",
    "Note that if $\\xi_i > 1$, the sample $x_{i}$ will be misclassified. To prevent\n",
    "this case to be too frequent, an idea is to minimize the sum of the $\\xi_{i}$.\n",
    "This leads to the following problem:\n",
    "\n",
    "$$\n",
    "(P_{s}):  \\left\\{\n",
    " \\begin{array}{ll}\n",
    " \\min_{(w,b,\\xi)} & \\frac{1}{2}w^{\\top}w + C \\sum_i \\xi_i\n",
    " \\\\\n",
    " \\mathrm{s.t.} & y_{i}(w^{\\top}x_{i}+b) \\geq 1 - \\xi_i\\\\\n",
    " \\mathrm{and} & -\\xi_i \\leq 0\n",
    " \\end{array}\n",
    " \\right.\n",
    "$$\n",
    "\n",
    "The constant $C$ controls the regularisation."
   ]
  },
  {
   "cell_type": "markdown",
   "metadata": {},
   "source": [
    "### Questions"
   ]
  },
  {
   "cell_type": "markdown",
   "metadata": {},
   "source": [
    "- Q9: Justify that $(P_{s})$ is a convex problem"
   ]
  },
  {
   "cell_type": "markdown",
   "metadata": {},
   "source": [
    "- A9: Again, the loss function $J(w,b,\\xi) = \\frac{1}{2} w^\\top w + C \\sum_i \\xi_i$ is quadratic and semi-definite positive and is thus convex. On the other hand, the constraint functions $1 - \\xi_i - y_i(w^\\top x_i + b)$ and $-\\xi$ are all affine and thus convex too. So, the problem $(P_s)$ is a convex problem."
   ]
  },
  {
   "cell_type": "markdown",
   "metadata": {},
   "source": [
    "- Show that a dual problem of $(P_{s})$ reads:\n",
    "\n",
    "$$\n",
    "(\\mathcal{D}):\n",
    "\\left\\{\n",
    "\\begin{array}{lll}\n",
    "\\min_{\\mu} &\\frac{1}{2}\\mu^{\\top}GG^{\\top}\\mu-\\mu^{\\top}u\n",
    "\\\\\n",
    "\\mathrm{s.t.}& y^{\\top}\\mu = 0\n",
    "\\\\\n",
    "\\mathrm{et}& 0 \\leq \\mu \\leq C\n",
    "\\end{array}\n",
    "\\right .\n",
    "$$"
   ]
  },
  {
   "cell_type": "markdown",
   "metadata": {},
   "source": [
    "- \n",
    "The Lagrangian is given by\n",
    "$$\n",
    "L(w,b,\\xi,\\mu,\\nu) = \\frac{1}{2} w^\\top w + C\\sum_i \\xi_i + \\sum_i \\mu_i(1 - \\xi_i - y_i (w^\\top x_i +b)) + \\sum_i \\nu_i (-\\xi_i)\n",
    "$$\n",
    "and the dual problem reads\n",
    "$$\n",
    "\\begin{cases}\n",
    "\\max_{\\mu, \\nu} H(\\mu,\\nu) \\\\\n",
    "\\mu \\geq 0 \\\\\n",
    "\\nu \\geq 0\n",
    "\\end{cases}\n",
    "$$\n",
    "where\n",
    "$$\n",
    "H(\\mu, \\nu) = \\min_{w,b,\\xi} L(w,b,\\xi,\\mu,\\nu)\n",
    "$$\n",
    "To get the explicit formula of $H$ we have\n",
    "$$\n",
    "\\begin{cases}\n",
    "\\frac{\\partial}{\\partial w} L(w,b,\\xi,\\mu,\\nu) = 0 \\\\\n",
    "\\frac{\\partial}{\\partial b} L(w,b,\\xi,\\mu,\\nu) = 0 \\\\\n",
    "\\frac{\\partial}{\\partial \\xi} L(w,b,\\xi,\\mu,\\nu) = 0\n",
    "\\end{cases}\n",
    "$$\n",
    "from which we have\n",
    "$$\n",
    "\\begin{cases}\n",
    "w - G^\\top \\mu = 0 \\\\\n",
    "- \\mu \\cdot y = 0 \\\\\n",
    "C\\mathbb{1} - \\mu - \\nu = 0\n",
    "\\end{cases}\n",
    "$$\n",
    "Then for $H$ we have\n",
    "$$\n",
    "H(\\mu) = \\frac{1}{2} \\mu^\\top G G^\\top \\mu + \\mu \\cdot (u - G G^\\top \\mu - y) = -\\frac{1}{2} \\mu^\\top G G^\\top \\mu + \\mu ^\\top u\n",
    "$$\n",
    "Thus the dual problem can be written as\n",
    "$$\n",
    "\\begin{cases}\n",
    "\\min_{\\mu} \\frac{1}{2} \\mu^\\top G G^\\top \\mu - \\mu ^\\top u \\\\\n",
    "y^\\top \\mu = 0\\\\\n",
    "\\mu \\geq 0 \\\\\n",
    "\\nu \\geq 0 \\\\\n",
    "\\mu + \\nu = C \\mathbb{1}\n",
    "\\end{cases}\n",
    "$$\n",
    "which is equivalent to \n",
    "$$\n",
    "(\\mathcal{D}):\n",
    "\\begin{cases}\n",
    "\\min_{\\mu} \\frac{1}{2} \\mu^\\top G G^\\top \\mu - \\mu ^\\top u \\\\\n",
    "y^\\top \\mu = 0\\\\\n",
    "0 \\leq \\mu \\leq C \\\\\n",
    "\\end{cases}\n",
    "$$"
   ]
  },
  {
   "cell_type": "markdown",
   "metadata": {},
   "source": [
    "- Q10: Modify your code from Q4 to handle the non-separable case."
   ]
  },
  {
   "cell_type": "code",
   "execution_count": 35,
   "metadata": {
    "collapsed": true
   },
   "outputs": [],
   "source": [
    "# TODO\n",
    "\n",
    "X, y = datasets(name='gaussian', n_points=300, sigma=1.7)\n",
    "\n",
    "K = kernel(X, X)\n",
    "# mu_support, idx_support = svm_solver(...)\n",
    "# b = compute_b(K, y, mu_support, idx_support)\n",
    "\n",
    "# plot_classif(X, y, mu_support, idx_support, b)"
   ]
  },
  {
   "cell_type": "markdown",
   "metadata": {},
   "source": [
    "- Q11: What is the influence of C on the number of support vectors? Justify this from an optimization stand point."
   ]
  },
  {
   "cell_type": "markdown",
   "metadata": {},
   "source": [
    "ANSWER HERE"
   ]
  },
  {
   "cell_type": "markdown",
   "metadata": {},
   "source": [
    "## Part 2: non-linear case with kernels"
   ]
  },
  {
   "cell_type": "markdown",
   "metadata": {},
   "source": [
    "Another scenario is when the boundary between classes is not linear.\n",
    "\n",
    "To cope with this the idea is to use kernels.\n",
    "\n",
    "- Q12: Denoting by $K(x_i, x_j)$ the dot product between samples show that dual problem and the decision function f(x) can be reformulated just using calls to $K$"
   ]
  },
  {
   "cell_type": "markdown",
   "metadata": {},
   "source": [
    "- A12:\n",
    "With $K(x_i,x_j)$, the dual problem becomes\n",
    "$$\n",
    "\\begin{cases}\n",
    "\\min_{\\mu} \\frac{1}{2} \\sum_{i,j} \\mu_i \\mu_j y_i y_j K(x_i,x_j) - \\mu ^\\top u \\\\\n",
    "y^\\top \\mu = 0\\\\\n",
    "0 \\leq \\mu \\leq C \\\\\n",
    "\\end{cases}\n",
    "$$\n",
    "and the prediction function becomes\n",
    "$$\n",
    "f(x) = \\mathrm{sign}(\\sum_{i=1}^{n} \\mu_i y_i K(x_i,x) + b) \\enspace .\n",
    "$$"
   ]
  },
  {
   "cell_type": "markdown",
   "metadata": {},
   "source": [
    "We will use the clowns dataset to evaluate this:"
   ]
  },
  {
   "cell_type": "code",
   "execution_count": 36,
   "metadata": {
    "collapsed": false
   },
   "outputs": [
    {
     "data": {
      "image/png": "[encoded data removed]",
      "text/plain": [
       "<matplotlib.figure.Figure at 0x10d558908>"
      ]
     },
     "metadata": {},
     "output_type": "display_data"
    }
   ],
   "source": [
    "X, y = datasets(name='clowns', n_points=200, sigma=0.7)\n",
    "\n",
    "plot_dataset(X, y)"
   ]
  },
  {
   "cell_type": "markdown",
   "metadata": {},
   "source": [
    "- Q13: Update your kernel function so it computes the Gaussian kernel:\n",
    "\n",
    "$$\n",
    "    K(x_i, x_j) = \\exp(-\\gamma \\| x_i - x_j \\|)\n",
    "$$\n",
    "\n",
    "where $\\gamma > 0$ is the kernel bandwidth."
   ]
  },
  {
   "cell_type": "code",
   "execution_count": 37,
   "metadata": {
    "collapsed": true
   },
   "outputs": [],
   "source": [
    "from scipy import linalg\n",
    "\n",
    "def rbf_kernel(X1, X2):\n",
    "    n1 = X1.shape[0]\n",
    "    n2 = X2.shape[0]\n",
    "    K = np.empty((n1, n2))\n",
    "    gamma = 3.\n",
    "    for i in range(n1):\n",
    "        for j in range(n2):\n",
    "            K[i, j] = np.exp(-gamma*np.linalg.norm(X1[i] - X2[j]))  # CHANGE THIS\n",
    "    return K"
   ]
  },
  {
   "cell_type": "markdown",
   "metadata": {},
   "source": [
    "Using the change above the follwing code should allow you to nicely separate the red from the blue dots"
   ]
  },
  {
   "cell_type": "code",
   "execution_count": 38,
   "metadata": {
    "collapsed": false
   },
   "outputs": [
    {
     "data": {
      "image/png": "[encoded data removed]",
      "text/plain": [
       "<matplotlib.figure.Figure at 0x10efd4c18>"
      ]
     },
     "metadata": {},
     "output_type": "display_data"
    }
   ],
   "source": [
    "X, y = datasets(name='clowns', n_points=200, sigma=0.7)\n",
    "\n",
    "K = rbf_kernel(X, X)\n",
    "mu_support, idx_support = svm_solver(K, y, C=1.)\n",
    "b = compute_b(K, y, mu_support, idx_support)\n",
    "\n",
    "plot_classif(X, y, mu_support, idx_support, b, kernel=rbf_kernel)"
   ]
  },
  {
   "cell_type": "markdown",
   "metadata": {},
   "source": [
    "## Part 3: Linear SVM without intercept"
   ]
  },
  {
   "cell_type": "markdown",
   "metadata": {},
   "source": [
    "The problem of the formuation of SVMs with the intercept term $b$ is that\n",
    "it leads to an annoying constraint in the dual, namely the $y^{t}\\mu = 0$.\n",
    "\n",
    "We will now see what we can do about it.\n",
    "\n",
    "Let's consider the problem\n",
    "\n",
    "$$\n",
    "(P'_{s}):  \\left\\{\n",
    " \\begin{array}{ll}\n",
    " \\min_{(w,\\xi)} & \\frac{1}{2}w^{\\top}w + C \\sum_i \\xi_i\n",
    " \\\\\n",
    " \\mathrm{s.t.} & y_{i}(w^{\\top}x_{i}) \\geq 1 - \\xi_i\\\\\n",
    " \\mathrm{and} & -\\xi_i \\leq 0\n",
    " \\end{array}\n",
    " \\right.\n",
    "$$"
   ]
  },
  {
   "cell_type": "markdown",
   "metadata": {},
   "source": [
    "- Q14: Show that a dual problem of $(P'_{s})$ is given by:\n",
    "\n",
    "$$\n",
    "(\\mathcal{D}):\n",
    "\\left\\{\n",
    "\\begin{array}{lll}\n",
    "\\min_{\\mu} &\\frac{1}{2}\\mu^{\\top}GG^{\\top}\\mu-\\mu^{\\top} 1_n\n",
    "\\\\\n",
    "\\mathrm{s.t.}& 0 \\leq \\mu \\leq C\n",
    "\\end{array}\n",
    "\\right .\n",
    "$$"
   ]
  },
  {
   "cell_type": "markdown",
   "metadata": {},
   "source": [
    "- A14:\n",
    "The Lagrangian is given by\n",
    "$$\n",
    "L(w,\\xi,\\mu,\\nu) = \\frac{1}{2} w^\\top w + C\\sum_i \\xi_i + \\sum_i \\mu_i(1 - \\xi_i - y_i w^\\top x_i) + \\sum_i \\nu_i (-\\xi_i)\n",
    "$$\n",
    "and the dual problem reads\n",
    "$$\n",
    "\\begin{cases}\n",
    "\\max_{\\mu, \\nu} H(\\mu,\\nu) \\\\\n",
    "\\mu \\geq 0 \\\\\n",
    "\\nu \\geq 0\n",
    "\\end{cases}\n",
    "$$\n",
    "where\n",
    "$$\n",
    "H(\\mu, \\nu) = \\min_{w,\\xi} L(w,\\xi,\\mu,\\nu)\n",
    "$$\n",
    "To get the explicit formula of $H$ we have\n",
    "$$\n",
    "\\begin{cases}\n",
    "\\frac{\\partial}{\\partial w} L(w,\\xi,\\mu,\\nu) = 0 \\\\\n",
    "\\frac{\\partial}{\\partial \\xi} L(w,\\xi,\\mu,\\nu) = 0\n",
    "\\end{cases}\n",
    "$$\n",
    "from which we have\n",
    "$$\n",
    "\\begin{cases}\n",
    "w - G^\\top \\mu = 0 \\\\\n",
    "C\\mathbb{1} - \\mu - \\nu = 0\n",
    "\\end{cases}\n",
    "$$\n",
    "Then for $H$ we have\n",
    "$$\n",
    "H(\\mu) = \\frac{1}{2} \\mu^\\top G G^\\top \\mu + \\mu \\cdot (u - G G^\\top \\mu - y) = -\\frac{1}{2} \\mu^\\top G G^\\top \\mu + \\mu ^\\top u\n",
    "$$\n",
    "Thus the dual problem can be written as\n",
    "$$\n",
    "\\begin{cases}\n",
    "\\min_{\\mu} \\frac{1}{2} \\mu^\\top G G^\\top \\mu - \\mu ^\\top u \\\\\n",
    "\\mu \\geq 0 \\\\\n",
    "\\nu \\geq 0 \\\\\n",
    "\\mu + \\nu = C \\mathbb{1}\n",
    "\\end{cases}\n",
    "$$\n",
    "which is equivalent to \n",
    "$$\n",
    "(\\mathcal{D}):\n",
    "\\begin{cases}\n",
    "\\min_{\\mu} \\frac{1}{2} \\mu^\\top G G^\\top \\mu - \\mu ^\\top 1_n \\\\\n",
    "0 \\leq \\mu \\leq C \\\\\n",
    "\\end{cases}\n",
    "$$"
   ]
  },
  {
   "cell_type": "markdown",
   "metadata": {},
   "source": [
    "- Q15: Rewrite the dual in the form:\n",
    "\n",
    "\n",
    "$$\n",
    "(\\mathcal{D}): \\min_{\\mu} f(\\mu) + g(\\mu) .\n",
    "$$\n",
    "\n",
    "where $f$ is here a smooth function of $\\mu$ with L-Liptschitz gradient and $g$ is a non-smooth function that is separable, namely:\n",
    "\n",
    "$$\n",
    "g(\\mu) = \\sum_{i=1}^n g_i(\\mu_i)\n",
    "$$"
   ]
  },
  {
   "cell_type": "markdown",
   "metadata": {},
   "source": [
    "- A15:\n",
    "We write \n",
    "$$f(\\mu) = \\frac{1}{2} \\mu^\\top G G^\\top \\mu - \\mu ^\\top 1_n $$\n",
    "and \n",
    "$$\n",
    "g(\\mu) = \\sum_{i=1}^n g_i (\\mu_i)\n",
    "$$\n",
    "where\n",
    "$$\n",
    "g_i(\\mu_i) = \\mathbb{I}_{[0,C]}(\\mu_i) = \n",
    "\\begin{cases}\n",
    "0, \\quad \\text{if } \\mu_i \\in [0,C] \\\\\n",
    "+\\infty, \\quad \\text{if } \\mu_i \\not \\in [0,C]\n",
    "\\end{cases}\n",
    "$$\n",
    "Then the problem $(\\mathcal{D})$ can be written in the form:\n",
    "$$\n",
    "(\\mathcal{D}): \\min_{\\mu} f(\\mu) + g(\\mu) .\n",
    "$$\n",
    "We see that $f$ is $L$-smooth where\n",
    "$$\n",
    "L = \\| G G^\\top \\|_{op}\n",
    "$$"
   ]
  },
  {
   "cell_type": "markdown",
   "metadata": {},
   "source": [
    "The dual in the later form can be readily optimized using the methods that you have been studying in this class:\n",
    "\n",
    "- Proximal gradient method with and without acceleration\n",
    "- L-BFGS-B\n",
    "- Coordinate descent"
   ]
  },
  {
   "cell_type": "markdown",
   "metadata": {},
   "source": [
    "- Q16: Implement:\n",
    "\n",
    "   - your own version of proximal gradient with and without acceleration\n",
    "   - your own version of coordinate descent\n",
    "   - an L-BFGS-B solver using `scipy.optimize.fmin_l_bfgs_b`\n",
    "\n",
    "Note: We restrict ourselves to linear kernel here.\n",
    "\n",
    "Note: To handle separating hyperplanes which do not pass throw zero (due to abscence of intercept)\n",
    "you will add a column of ones to X. You can use something like this:\n",
    "\n",
    "`X = np.concatenate((X, np.ones((len(X), 1))), axis=1)`"
   ]
  },
  {
   "cell_type": "markdown",
   "metadata": {},
   "source": [
    "You will test your implementations on the Gaussian blobs and evaluate the performance of your implementations in terms of computation time on problems where the matrix $G G^\\top$ can fit in memory.\n",
    "\n",
    "You should reuse as much as possible the convergence evaluation code that you used during the labs.\n",
    "\n",
    "For a coordinate descent method to be fast you need to have smart updates. You're expected to\n",
    "come up with these smart updates in the problem at hand.\n",
    "\n",
    "BONUS : With a smart implementation of the coordinate descent you should be able to scale the optimization to tens of thousands of samples ie cases where $G G^\\top$ does not fit in memory anymore.\n",
    "\n",
    "**IMPORTANT : This question Q16 is the most important and will constitute half of the final grade on the project !**"
   ]
  },
  {
   "cell_type": "code",
   "execution_count": 39,
   "metadata": {
    "collapsed": true
   },
   "outputs": [],
   "source": [
    "# TODO\n",
    "\n",
    "from scipy.optimize import fmin_l_bfgs_b"
   ]
  }
 ],
 "metadata": {
  "anaconda-cloud": {},
  "kernelspec": {
   "display_name": "Python [default]",
   "language": "python",
   "name": "python3"
  },
  "language_info": {
   "codemirror_mode": {
    "name": "ipython",
    "version": 3
   },
   "file_extension": ".py",
   "mimetype": "text/x-python",
   "name": "python",
   "nbconvert_exporter": "python",
   "pygments_lexer": "ipython3",
   "version": "3.5.2"
  }
 },
 "nbformat": 4,
 "nbformat_minor": 0
}
