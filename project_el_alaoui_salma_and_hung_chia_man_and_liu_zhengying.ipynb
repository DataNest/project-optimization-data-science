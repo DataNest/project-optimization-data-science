{
 "cells": [
  {
   "cell_type": "markdown",
   "metadata": {},
   "source": [
    "# PROJECT: Course Optimization for Data Science\n",
    "## Optimization strategies for Support Vector Machines (SVM)"
   ]
  },
  {
   "cell_type": "markdown",
   "metadata": {},
   "source": [
    "Authors: Alexandre Gramfort, Stéphane Gaiffas\n",
    "\n",
    "If you have questions or if something is not clear in the text below please contact us\n",
    "by email.\n",
    "\n",
    "## Aim:\n",
    "\n",
    "- derive the duals for SVMs with and without intercept\n",
    "- implement an SVM using a blackbox convex toolbox (cvxopt in Python)\n",
    "- implement your own solvers for the without intercept case: Proximal gradient, Coordinate Descent, Newton, Quasi-Newton\n",
    "- Present a clear benchmark of the different strategies on small and medium scale datasets\n",
    "\n",
    "\n",
    "## VERY IMPORTANT\n",
    "\n",
    "This work must be done by pairs of students.\n",
    "Each student must send their work before the 3rd of January at 23:59, using the moodle platform.\n",
    "This means that **each student in the pair sends the same file**\n",
    "\n",
    "On the moodle, in the \"Optimization for Data Science\" course, you have a \"devoir\" section called \"Project\".\n",
    "This is where you submit your jupyter notebook file.\n",
    "\n",
    "The name of the file must be constructed as in the next cell\n",
    "\n",
    "### Gentle reminder: no evaluation if you don't respect this EXACTLY\n",
    "\n",
    "#### How to construct the name of your file"
   ]
  },
  {
   "cell_type": "code",
   "execution_count": 2,
   "metadata": {
    "collapsed": false
   },
   "outputs": [
    {
     "name": "stdout",
     "output_type": "stream",
     "text": [
      "project_el_alaoui_salma_and_hung_chia_man_and_liu_zhengying.ipynb\n"
     ]
    }
   ],
   "source": [
    "# Change here using YOUR first and last names\n",
    "fn1 = \"salma\"\n",
    "ln1 = \"el_alaoui\"\n",
    "fn2 = \"chia_man\"\n",
    "ln2 = \"hung\"\n",
    "fn3 = \"zhengying\"\n",
    "ln3 = \"liu\"\n",
    "\n",
    "filename = \"_\".join(map(lambda s: s.strip().lower(), \n",
    "                        [\"project\", ln1, fn1, \"and\", ln2, fn2, \"and\", ln3, fn3])) + \".ipynb\"\n",
    "print(filename)"
   ]
  },
  {
   "cell_type": "markdown",
   "metadata": {},
   "source": [
    "Some imports"
   ]
  },
  {
   "cell_type": "code",
   "execution_count": 3,
   "metadata": {
    "collapsed": false
   },
   "outputs": [],
   "source": [
    "%matplotlib inline\n",
    "import numpy as np\n",
    "from scipy import linalg\n",
    "import time\n",
    "import matplotlib.pyplot as plt"
   ]
  },
  {
   "cell_type": "markdown",
   "metadata": {},
   "source": [
    "## Important:\n",
    "\n",
    "For Part 0 to Part 2 of the project you will need a working install of `cvxopt`.\n",
    "You may struggle a bit to set it up.\n",
    "The simplest way of getting it is by typing \n",
    "\n",
    "`pip install cvxopt`\n",
    "\n",
    "if you have `pip` installed on your laptop.\n",
    "If you **struggle too much please\n",
    "contact us**."
   ]
  },
  {
   "cell_type": "markdown",
   "metadata": {},
   "source": [
    "## Part 0: SVM Classification with linear kernel"
   ]
  },
  {
   "cell_type": "markdown",
   "metadata": {},
   "source": [
    "Let us consider the problem of binary classification from $n$ observations\n",
    "$x_i \\in \\mathbb{R}^{d}$,\n",
    "$1 \\leq i \\leq n$. We aim to learn a function:\n",
    "$$f: x \\in \\mathbb{R}^{d}\\mapsto y\\in\\{-1,+1\\}$$\n",
    "from the $n$ annotated training samples $(x_{i},y_{i})$ supposed i.i.d. from an unknown probability distribution on $\\mathbb{R}^d \\times \\{-1,+1\\}$. Once this function is learnt, it will be possible to use it to predict the label $y$ associated to a new sample $x$."
   ]
  },
  {
   "cell_type": "markdown",
   "metadata": {},
   "source": [
    "Margin and linear separating hyperplane:\n",
    "\n",
    "<img src=\"separateur.png\">"
   ]
  },
  {
   "cell_type": "markdown",
   "metadata": {},
   "source": [
    "In the linear case, one looks for an affine function of $x$ of the form \n",
    "$f(x) = \\mathrm{sign}(w^{\\top} x)$ or $f(x)=\\mathrm{sign}(w^{\\top}x + b)$\n",
    "with $w \\in \\mathbb{R}^d$ and $b \\in \\mathbb{R}$. The first case is referred\n",
    "to as the **without intercept** case. Indeed the coefficient $b$ is known\n",
    "as the intercept or bias term.\n",
    "\n",
    "We will start by considering the case with intercept.\n",
    "\n",
    "To learn $f$, we use the $n$ annotated samples and one looks for a hyperplane $P(w,b)$\n",
    "such that the smallest distance to positive and negative samples\n",
    "is the largest. This can be written as:\n",
    "$$\n",
    " \\max_{w,b} \\min_{i=1:n} y_i \\delta(x_{i},P(w,b)) \\quad\n",
    " \\text{where}\\quad \\delta(x_{i},w,b) = \\frac{w^{\\top}x_{i}+b}{\\sqrt{w^{\\top}w}} \\enspace,\n",
    "$$\n",
    "since the signed distance from a sample $x_{i}$ to the hyperplane $P(w,b)$ is given by\n",
    "$\n",
    "\\delta(x_{i},w,b)\n",
    "$.\n",
    "The principle described above is the maximisation of the *margin*."
   ]
  },
  {
   "cell_type": "markdown",
   "metadata": {},
   "source": [
    "One can notice that if the minimum of a set of values is larger than $m$ than all values of the set are larger than $m$. This leads to the following problem formulation:\n",
    "$$\n",
    " \\left\\{\n",
    " \\begin{array}{cll}\n",
    " \\max_{(w,b)} \\quad m \\\\\n",
    " \\text{s.t.} \\;\\; &\\forall i &y_i\\dfrac{w^{\\top}x_{i}+b}{\\sqrt{w^{\\top}w}}\\geq m\n",
    " \\end{array}\n",
    " \\right. \\enspace .\n",
    "$$\n",
    "\n",
    "The hyperplane separates the space in 2 half spaces, depending if $\\delta(x_{i},w,b)$ is positive or negative."
   ]
  },
  {
   "cell_type": "markdown",
   "metadata": {},
   "source": [
    "Assuming all samples are linearly separable, convince yourself that the problem can be written as:\n",
    "$$\n",
    "(\\mathcal{P}):  \\left\\{\n",
    " \\begin{array}{cll}\n",
    " &\\min_{(w,b)} \\frac{1}{2}w^{\\top}w\n",
    " \\\\\n",
    "  &y_{i}(w^{\\top}x_{i}+b)\\geq 1, \\quad \\forall i\\in \\{1,\\cdots,n\\}\n",
    " \\end{array}\n",
    " \\right.\n",
    "$$"
   ]
  },
  {
   "cell_type": "markdown",
   "metadata": {},
   "source": [
    "### Questions"
   ]
  },
  {
   "cell_type": "markdown",
   "metadata": {},
   "source": [
    "- Q1: Justify that the problem $(\\mathcal{P})$ is convex."
   ]
  },
  {
   "cell_type": "markdown",
   "metadata": {},
   "source": [
    "- A1: We can rewrite the problem as\n",
    "$$\n",
    "(\\mathcal{P}):  \\left\\{\n",
    " \\begin{array}{cll}\n",
    " &\\min_{(w,b)} J(w,b)\n",
    " \\\\\n",
    "  &F_i(w,b)\\leq 0, \\quad \\forall i\\in \\{1,\\cdots,n\\}\n",
    " \\end{array}\n",
    " \\right.\n",
    "$$\n",
    "where $J(w,b)=\\frac{1}{2}w^{\\top}w$ and $F_i(w,b)=1-y_{i}(w^{\\top}x_{i}+b)$. We see that $J(w)$ is quadratic and definite positive thus convex. $F_i(w)$ are affine and thus convex too.\n",
    "\n",
    "In conclusion, the problem $(\\mathcal{P})$ is convex."
   ]
  },
  {
   "cell_type": "markdown",
   "metadata": {},
   "source": [
    "- Q2: By looking at the saddle points of the Lagrangian $\\mathcal{L}(w, b, \\mu)$, $\\mu \\in \\mathbb{R}_+^n$, show that the dual problem $(\\mathcal{D})$ can be written as:\n",
    "$$\n",
    "(\\mathcal{D}): \n",
    " \\left\\{\n",
    " \\begin{array}{lll}\n",
    " \\min_{\\mu} &\\frac{1}{2}\\mu^{\\top}GG^{t}\\mu-\\mu^{\\top}u\n",
    " \\\\\n",
    " \\mathrm{s.c.}& y^{\\top}\\mu = 0\n",
    " \\\\\n",
    " \\mathrm{and}& -\\mu \\leq  0\n",
    " \\end{array}\n",
    " \\right .\n",
    "$$\n",
    "\n",
    "with\n",
    "\n",
    "$$\n",
    " G = \\begin{bmatrix}y_{1}x_{1}^{\\top} \\\\ \\vdots \\\\ y_{n}x_{n}^{\\top}\\end{bmatrix}\n",
    "$$\n",
    "\n",
    "and $u = (1, \\dots, 1) \\in \\mathbb{R}^n$.\n",
    "\n",
    "We will **assume here qualification of the constraints**.\n",
    "\n",
    "Remark: The problem $(\\mathcal{D})$ is a *quadratic program* (QP) for which their exist off-the-shelf techniques. See below."
   ]
  },
  {
   "cell_type": "markdown",
   "metadata": {},
   "source": [
    "- A2: \n",
    "The Lagrangian is given by\n",
    "$$\n",
    "L(w,b,\\mu) = J(w,b)+\\mu \\cdot F(w,b)\n",
    "$$\n",
    "Because $\\mathcal{P}$ is convex (by Q1), and the constaints are qualified, by applying the KKT theorem, there exists saddle points $(w^{*}, \\mu^{*})$ such that $w^{*}$ are solutions to the primal problem and $\\mu^{*}$ are solutions to the dual problem. The dual problem reads:\n",
    "$$\n",
    "\\begin{cases}\n",
    "\\max_{\\mu} H(\\mu) \\\\\n",
    "\\mu \\geq 0\n",
    "\\end{cases}\n",
    "$$\n",
    "where\n",
    "$$\n",
    "H(\\mu) = \\min_{w,b} L(w,b,\\mu)\n",
    "$$\n",
    "To get the explicit formula of $H$ we have\n",
    "$$\n",
    "\\begin{cases}\n",
    "\\frac{\\partial}{\\partial w} L(w,b,\\mu) = 0 \\\\\n",
    "\\frac{\\partial}{\\partial b} L(w,b,\\mu) = 0\n",
    "\\end{cases}\n",
    "$$\n",
    "from which we have\n",
    "$$\n",
    "\\begin{cases}\n",
    "w - G^\\top \\mu = 0 \\\\\n",
    "- \\mu \\cdot y = 0\n",
    "\\end{cases}\n",
    "$$\n",
    "Then for $H$ we have\n",
    "$$\n",
    "H(\\mu) = \\frac{1}{2} \\mu^\\top G G^\\top \\mu + \\mu \\cdot (u - G G^\\top \\mu - y) = -\\frac{1}{2} \\mu^\\top G G^\\top \\mu + \\mu ^\\top u\n",
    "$$\n",
    "Thus the dual problem can be written as\n",
    "$$\n",
    "(\\mathcal{D}):\n",
    "\\begin{cases}\n",
    "\\min_{\\mu} \\frac{1}{2} \\mu^\\top G G^\\top \\mu - \\mu ^\\top u \\\\\n",
    "y^\\top \\mu = 0\\\\\n",
    "-\\mu \\leq 0\n",
    "\\end{cases}\n",
    "$$"
   ]
  },
  {
   "cell_type": "markdown",
   "metadata": {},
   "source": [
    "- Q3: Justify that given the estimated $\\mu$, the prediction function for a new sample $x$ is given by:\n",
    "\n",
    "$$\n",
    "y = \\mathrm{sign}(\\sum_{i=1}^{n} \\mu_i y_i x_i^\\top x + b) \\enspace .\n",
    "$$\n",
    "\n",
    "The vector $w$ is therefore equal to $\\sum_{i=1}^{n} \\mu_i y_i x_i$"
   ]
  },
  {
   "cell_type": "markdown",
   "metadata": {},
   "source": [
    "- A3:\n",
    "From Q2 we have\n",
    "$$w = G^\\top \\mu$$\n",
    "where $G^\\top = [y_1 x_1,...,y_n x_n]$. Thus\n",
    "$$ w = \\sum_{i=1}^n \\mu_i y_i x_i$$\n",
    "And the prediction function $f(x)=\\mathrm{sign}(w^{\\top}x + b)$ is then given by\n",
    "$$\n",
    "f(x) = \\mathrm{sign}(\\sum_{i=1}^{n} \\mu_i y_i x_i^\\top x + b) \\enspace .\n",
    "$$"
   ]
  },
  {
   "cell_type": "markdown",
   "metadata": {},
   "source": [
    "## Part 1: Implementation of solver with intercept using cvxopt"
   ]
  },
  {
   "cell_type": "markdown",
   "metadata": {},
   "source": [
    "The file svm_project_utils.py contains the code to generate some toy data and plot them"
   ]
  },
  {
   "cell_type": "code",
   "execution_count": 4,
   "metadata": {
    "collapsed": false
   },
   "outputs": [],
   "source": [
    "from svm_project_utils import plot_dataset, datasets"
   ]
  },
  {
   "cell_type": "code",
   "execution_count": 19,
   "metadata": {
    "collapsed": false
   },
   "outputs": [
    {
     "data": {
      "image/png": "[encoded data removed]",
      "text/plain": [
       "<matplotlib.figure.Figure at 0x10df04208>"
      ]
     },
     "metadata": {},
     "output_type": "display_data"
    }
   ],
   "source": [
    "n = 300\n",
    "X, y = datasets(name='gaussian', n_points=n)\n",
    "plot_dataset(X, y)"
   ]
  },
  {
   "cell_type": "markdown",
   "metadata": {},
   "source": [
    "- The following function qp allows to solve a quadratic problem of the form:\n",
    "\n",
    "$$\n",
    "\\left\\{\n",
    "  \\begin{array}{cll}\n",
    "  &\\min_{(x)} \\frac{1}{2}x^{\\top} H x - e^\\top x\n",
    "  \\\\\n",
    "   & \\textrm{s.c.}\\; A^\\top x = b, 0 \\leq x \\leq C.\n",
    "  \\end{array}\n",
    "  \\right.\n",
    "$$"
   ]
  },
  {
   "cell_type": "code",
   "execution_count": 136,
   "metadata": {
    "collapsed": false
   },
   "outputs": [],
   "source": [
    "import cvxopt\n",
    "\n",
    "\n",
    "def qp(H, e, A, b, C=np.inf, l=1e-8, verbose=True):\n",
    "    # Gram matrix\n",
    "    n = H.shape[0]\n",
    "    H = cvxopt.matrix(H)\n",
    "    A = cvxopt.matrix(y, (1, n))\n",
    "    e = cvxopt.matrix(-e)\n",
    "    b = cvxopt.matrix(0.0)\n",
    "    if C == np.inf:\n",
    "        G = cvxopt.matrix(np.diag(np.ones(n) * -1))\n",
    "        h = cvxopt.matrix(np.zeros(n))\n",
    "    else:\n",
    "        G = cvxopt.matrix(np.concatenate([np.diag(np.ones(n) * -1),\n",
    "                                         np.diag(np.ones(n))], axis=0))\n",
    "        h = cvxopt.matrix(np.concatenate([np.zeros(n), C * np.ones(n)]))\n",
    "\n",
    "    # Solve QP problem\n",
    "    cvxopt.solvers.options['show_progress'] = verbose\n",
    "    solution = cvxopt.solvers.qp(H, e, G, h, A, b)\n",
    " \n",
    "    # Lagrange multipliers\n",
    "    mu = np.ravel(solution['x'])\n",
    "    return mu"
   ]
  },
  {
   "cell_type": "markdown",
   "metadata": {},
   "source": [
    "Definition of the linear kernel:"
   ]
  },
  {
   "cell_type": "code",
   "execution_count": 137,
   "metadata": {
    "collapsed": true
   },
   "outputs": [],
   "source": [
    "def kernel(X1, X2):\n",
    "    n1 = X1.shape[0]\n",
    "    n2 = X2.shape[0]\n",
    "    K = np.empty((n1, n2))\n",
    "    for i in range(n1):\n",
    "        for j in range(n2):\n",
    "            K[i, j] = np.dot(X1[i], X2[j])\n",
    "    return K"
   ]
  },
  {
   "cell_type": "markdown",
   "metadata": {},
   "source": [
    "### Questions\n",
    "\n",
    "- Q4: Modify the following cell to solve the SVM dual problem:"
   ]
  },
  {
   "cell_type": "code",
   "execution_count": 143,
   "metadata": {
    "collapsed": false
   },
   "outputs": [
    {
     "name": "stdout",
     "output_type": "stream",
     "text": [
      "Number of support vectors: 2\n"
     ]
    },
    {
     "data": {
      "image/png": "[encoded data removed]",
      "text/plain": [
       "<matplotlib.figure.Figure at 0x10edf8400>"
      ]
     },
     "metadata": {},
     "output_type": "display_data"
    }
   ],
   "source": [
    "n = 300\n",
    "X, y = datasets(name='gaussian', n_points=n, sigma=0.7)\n",
    "plot_dataset(X, y)\n",
    "\n",
    "def svm_solver(K, y, C=np.inf):\n",
    "    H = (y * K).T * y\n",
    "    e = np.ones(y.shape[0])\n",
    "    A = y\n",
    "    b = 0\n",
    "    mu = qp(H, e, A, b, C, l=1e-8, verbose=False)\n",
    "    idx_support = np.where(np.abs(mu) > 1e-5)[0]\n",
    "    mu_support = mu[idx_support]\n",
    "    return mu_support, idx_support\n",
    "\n",
    "K = kernel(X, X)\n",
    "\n",
    "# Uncomment the following lines when your svm_solver is completed:\n",
    "mu_support, idx_support = svm_solver(K, y)\n",
    "print(\"Number of support vectors: %s\" % idx_support.size)"
   ]
  },
  {
   "cell_type": "markdown",
   "metadata": {},
   "source": [
    "- Q5: Compute w from mu and b"
   ]
  },
  {
   "cell_type": "code",
   "execution_count": 146,
   "metadata": {
    "collapsed": false
   },
   "outputs": [],
   "source": [
    "w = np.sum((mu_support * y[idx_support])[: , None] * X[idx_support], axis=0)"
   ]
  },
  {
   "cell_type": "markdown",
   "metadata": {},
   "source": [
    "- Q6: Using complementary slackness, explain how to obtain $b$ from $\\mu$.\n",
    "\n",
    "HINT: Use the fact that for all support vectors for which $\\mu_i$ is non-zero one has $y_{i}(w^{t}x_{i}+b) = 1$.\n",
    "\n",
    "- A6: \n",
    "\n",
    "According to the complementary slackness KKT condition, we have: \n",
    "$ \\mu_j(y_{j}(w^{t}x_{j}+b) - 1) = 0 $ for all data points j.\n",
    "\n",
    "For all support vectors i we have $\\mu_i > 0$ and therefore $y_{i}(w^{t}x_{i}+b) - 1 = 0$\n",
    "\n",
    "Since $y_i\\in\\{-1,+1\\}$:\n",
    "\n",
    "$$ b = y_i - w^{t}x_{i} $$\n",
    "\n",
    "and we have that $w = G^{T}\\mu = \\sum_{i=1}^{n} y_j \\mu_j x_j$, therefore: \n",
    "\n",
    "$$b = y_i - \\sum_{i=1}^{n} y_j \\mu_j x_j^T x_i$$ where $i$ is a support vector."
   ]
  },
  {
   "cell_type": "code",
   "execution_count": 147,
   "metadata": {
    "collapsed": false
   },
   "outputs": [
    {
     "name": "stdout",
     "output_type": "stream",
     "text": [
      "0.72445896403\n"
     ]
    }
   ],
   "source": [
    "def compute_b(K, y, mu_support, idx_support):\n",
    "    mu = np.zeros(K.shape[0])\n",
    "    mu[idx_support] = mu_support\n",
    "    i = idx_support[0]\n",
    "    y_i = y[i] \n",
    "    #b = y_i - np.sum((y * mu)* K[i, :], axis = 0)\n",
    "    b = y_i - np.sum((y[idx_support] * mu_support) * K[i, idx_support], axis = 0)\n",
    "    return b\n",
    "\n",
    "b = compute_b(K, y, mu_support, idx_support)\n",
    "print(b)"
   ]
  },
  {
   "cell_type": "markdown",
   "metadata": {},
   "source": [
    "- Q7: Verify that the constraints of the primal problem are satistified up to an acceptable numerical precision. You should verify that for all $i$ we have:\n",
    "\n",
    "$$\n",
    "y_{i}(w^{\\top}x_{i}+b) \\geq 1 - \\epsilon\n",
    "$$\n",
    "\n",
    "using for example $\\epsilon = 1e-5$."
   ]
  },
  {
   "cell_type": "code",
   "execution_count": 148,
   "metadata": {
    "collapsed": false
   },
   "outputs": [
    {
     "name": "stdout",
     "output_type": "stream",
     "text": [
      "True\n",
      "[  3.63231278e+00   2.69885039e+00   2.04501306e+00   1.99470114e+00\n",
      "   1.57530882e+00   2.00426501e+00   1.92136500e+00   2.13027622e+00\n",
      "   1.71689334e+00   2.91064105e+00   2.53075690e+00   2.46313776e+00\n",
      "   3.20592323e+00   3.60991991e+00   2.63557262e+00   5.19690837e+00\n",
      "   2.89052318e+00   5.23990039e+00   2.59338970e+00   4.29565386e+00\n",
      "   3.05623106e+00   1.12592903e+00   4.49054628e+00   2.25887420e+00\n",
      "   2.80192522e+00   3.89442250e+00   1.49033616e+00   1.51599737e+00\n",
      "   2.14427664e+00   2.64057870e+00   3.75647881e+00   1.64875901e+00\n",
      "   2.12771430e+00   3.43973438e+00   4.29659501e-01   2.48506530e+00\n",
      "   1.71765659e+00   1.36211854e+00   1.03914839e+00   1.84678602e+00\n",
      "   2.88506833e+00   1.52677423e+00   1.55762077e+00   2.99729362e+00\n",
      "   3.51993497e+00   2.38752976e+00   1.56328931e+00   1.12113964e+00\n",
      "   2.00988087e+00   6.56633329e-01   2.34119051e+00   2.13700148e+00\n",
      "   2.91921599e+00   1.47836769e+00   1.43243294e+00   2.90457998e+00\n",
      "   2.33796664e+00   3.45357406e+00   2.16496559e+00   2.02698118e+00\n",
      "   1.19766485e+00   2.72750014e+00   7.75224886e-01   3.23909331e+00\n",
      "   1.53469601e+00   1.67357322e+00   2.70801325e+00   2.82831725e+00\n",
      "   3.22559054e+00   3.13114009e+00   1.21126499e+00   2.58297952e+00\n",
      "   2.30576964e+00   1.76501226e+00   7.91060605e-01   2.39434979e+00\n",
      "   3.44135369e+00   3.42820422e+00   1.98449154e+00   4.12619413e-01\n",
      "   2.19577739e+00   3.56689731e+00   3.04490015e+00   3.17914565e+00\n",
      "   2.40849495e+00   2.54051973e+00   3.30141910e-01   1.23605314e+00\n",
      "   2.88123023e+00   2.83259307e+00   2.11707795e+00   2.02337850e+00\n",
      "   2.20962603e+00   3.71864452e+00   2.14310527e+00   2.22447772e+00\n",
      "   2.52979618e+00   2.80326229e+00   2.78179477e+00   5.23597526e-02\n",
      "   1.71723411e+00   2.78723524e+00   6.31914848e-01   2.84417520e+00\n",
      "   3.00190219e+00   6.35630156e-01   1.89274124e+00   4.13699863e+00\n",
      "   1.80224398e+00   2.58284018e+00   3.79241662e+00   1.88166203e+00\n",
      "   3.75462422e+00   4.44565251e+00   2.73122640e+00   3.05805807e+00\n",
      "   3.64147313e+00   1.65691137e+00   4.85082684e-01   2.22706782e+00\n",
      "   1.88237217e+00   1.89110504e+00   2.16484272e+00   2.56119976e+00\n",
      "   2.55728655e+00   2.08111931e+00   1.78745668e+00   1.58893376e+00\n",
      "   1.27144197e+00   2.33827861e+00   1.50746421e+00   3.96563090e+00\n",
      "   4.18769707e+00   1.30747421e+00   3.04922775e+00   1.89875119e+00\n",
      "   2.01699869e+00   2.00898459e+00   1.91222256e+00   2.64515854e+00\n",
      "   4.71482255e+00   3.34787960e+00   3.83835812e+00   2.63587377e+00\n",
      "   2.23490146e+00   1.00000000e-05   2.03661173e+00   4.67886152e-01\n",
      "   2.07922083e+00   2.88770441e+00   1.21396782e+00   2.13926824e+00\n",
      "   3.13549211e+00   9.60141796e-01   1.64399746e+00   1.78207546e+00\n",
      "   2.18357280e+00   1.13350437e+00   9.38089227e-01   1.83227702e+00\n",
      "   2.04892477e+00   1.80335811e+00   2.67673566e+00   1.59366601e+00\n",
      "   1.38624336e+00   7.53989987e-01   1.33066599e+00   1.45445256e+00\n",
      "   4.54451646e-01   2.56364712e+00   3.15753885e-01   2.42482758e+00\n",
      "   8.93605699e-01   1.36273051e+00   1.93125981e+00   2.25664724e+00\n",
      "   1.80787503e+00   6.74746726e-01   1.38876465e+00   2.38526289e-01\n",
      "   2.02171068e+00   2.01858832e+00   3.26047888e+00   1.26262699e+00\n",
      "   1.68048630e+00   2.47978435e+00   1.14033996e+00   2.61849645e+00\n",
      "   6.50808462e-01   1.92716529e+00   2.46542767e+00   1.45931938e+00\n",
      "   2.36327341e+00   1.47647544e+00   1.05514320e+00   2.48897052e+00\n",
      "   2.73441390e+00   1.60200253e+00   2.34357687e+00   9.93816943e-06\n",
      "   1.61905798e+00   2.13538392e+00   1.37348285e+00   1.81333592e+00\n",
      "   2.07465628e+00   6.52435941e-01   1.12464803e+00   1.36325468e+00\n",
      "   2.43437854e+00   2.27532343e+00   2.25106057e+00   1.13616027e+00\n",
      "   2.08540160e+00   1.57214499e+00   1.71603574e+00   1.47780589e+00\n",
      "   2.02828109e+00   2.37893326e+00   7.70533709e-01   1.70753720e+00\n",
      "   1.88822205e+00   1.06652773e+00   1.14345078e+00   1.56042973e+00\n",
      "   1.53114651e+00   2.02298403e+00   2.03020078e+00   9.36368139e-01\n",
      "   7.77158528e-01   9.54808512e-01   2.38071746e+00   1.94695599e+00\n",
      "   2.57649767e+00   2.04960088e+00   1.89138513e+00   2.84316510e+00\n",
      "   2.32080589e+00   2.09990118e+00   2.54882012e+00   1.90132264e+00\n",
      "   2.67749661e+00   2.12900371e+00   1.31093943e+00   4.09302156e+00\n",
      "   2.31566365e+00   3.27391546e+00   1.15469887e+00   1.45555439e-01\n",
      "   1.80300336e+00   2.06224000e+00   2.32484960e+00   1.69218676e+00\n",
      "   2.57882232e+00   1.11713237e+00   4.36534406e-01   2.21479815e+00\n",
      "   1.74563357e+00   1.79542390e+00   3.18430781e+00   1.53653666e+00\n",
      "   2.42570556e+00   2.26887985e+00   1.51357955e+00   2.20242640e+00\n",
      "   2.01383027e+00   1.14480190e+00   1.16227908e+00   1.82166119e+00\n",
      "   2.37976813e+00   1.94902069e+00   1.49574061e+00   1.66857376e+00\n",
      "   3.09834325e+00   2.13107128e+00   2.96850105e+00   7.18547716e-01\n",
      "   3.29200189e+00   1.65511688e+00   1.72481334e+00   2.49670655e+00\n",
      "   2.03222640e+00   2.02286696e+00   2.24008505e+00   2.28371821e+00\n",
      "   1.82243165e+00   3.37234914e+00   1.64172040e+00   2.89995103e+00\n",
      "   2.83692735e+00   7.30520479e-01   1.28344316e+00   3.24752968e+00\n",
      "   6.16777642e-01   1.83363103e+00   2.73643161e+00   2.15105377e+00\n",
      "   1.95474660e+00   2.21094667e+00   8.70557612e-01   1.54492038e+00]\n"
     ]
    }
   ],
   "source": [
    "positive = y * (np.dot(X, w) + b*np.ones(n)) - 1 + 1e-5\n",
    "print(np.all(positive >= 0))"
   ]
  },
  {
   "cell_type": "markdown",
   "metadata": {},
   "source": [
    "Check your code by running the following cell:"
   ]
  },
  {
   "cell_type": "code",
   "execution_count": 149,
   "metadata": {
    "collapsed": false
   },
   "outputs": [
    {
     "data": {
      "image/png": "[encoded data removed]",
      "text/plain": [
       "<matplotlib.figure.Figure at 0x10f175128>"
      ]
     },
     "metadata": {},
     "output_type": "display_data"
    }
   ],
   "source": [
    "X, y = datasets(name='gaussian', n_points=300, sigma=0.7)\n",
    "\n",
    "K = kernel(X, X)\n",
    "mu_support, idx_support = svm_solver(K, y)\n",
    "b = compute_b(K, y, mu_support, idx_support)\n",
    "\n",
    "def plot_classif(X, y, mu_support, idx_support, b, kernel=kernel):\n",
    "    # Calcul de la fonction de décision sur une grille\n",
    "    X1, X2 = np.mgrid[-4:4:0.1, -4:4:0.1]\n",
    "    na, nb = X1.shape\n",
    "    X_test = np.c_[np.reshape(X1, (na * nb, 1)),\n",
    "                   np.reshape(X2, (na * nb, 1))]\n",
    "\n",
    "    # Calcul des produits scalaires\n",
    "    X_support = X[idx_support]\n",
    "    G = kernel(X_test, X_support)\n",
    "    # Calcul de la fonction de décision\n",
    "    decision = G.dot(mu_support * y[idx_support]) + b\n",
    "\n",
    "    # Calcul du label prédit\n",
    "    y_pred = np.sign(decision)\n",
    "\n",
    "    # Affichage des lignes de niveau de la fonction de decision\n",
    "    plt.contourf(X1, X2, np.reshape(decision, (na, nb)), 20, cmap=plt.cm.gray)\n",
    "    cs = plt.contour(X1, X2, np.reshape(decision, (na,nb)), [-1, 0, 1], color='g', linewidth=2)\n",
    "    plt.clabel(cs, inline=1)\n",
    "    plt.plot(X[y == 1,0], X[y == 1, 1], 'or', linewidth=2)\n",
    "    plt.plot(X[y == -1,0], X[y == -1, 1], 'ob', linewidth=2)\n",
    "    plt.xlabel('x1')\n",
    "    plt.ylabel('x2')\n",
    "    plt.xlim([-4, 4])\n",
    "    plt.ylim([-4, 4])\n",
    "\n",
    "plot_classif(X, y, mu_support, idx_support, b)"
   ]
  },
  {
   "cell_type": "markdown",
   "metadata": {},
   "source": [
    "We will now change the value of $\\sigma$ such that the problem is not linearily separable anymore."
   ]
  },
  {
   "cell_type": "code",
   "execution_count": 150,
   "metadata": {
    "collapsed": false
   },
   "outputs": [
    {
     "data": {
      "image/png": "[encoded data removed]",
      "text/plain": [
       "<matplotlib.figure.Figure at 0x10de5b128>"
      ]
     },
     "metadata": {},
     "output_type": "display_data"
    }
   ],
   "source": [
    "X, y = datasets(name='gaussian', n_points=300, sigma=1.5)\n",
    "plot_dataset(X, y)"
   ]
  },
  {
   "cell_type": "code",
   "execution_count": 96,
   "metadata": {
    "collapsed": false
   },
   "outputs": [
    {
     "name": "stdout",
     "output_type": "stream",
     "text": [
      "Terminated (singular KKT matrix).\n",
      "[  2.92711886   4.84806441   5.85545554   7.49883279   2.41159202\n",
      "   9.33288965   1.10425991   0.95510438   8.14986265   2.96916722\n",
      "   1.28099058   1.34258858   2.44745589   3.59985785   4.66794421\n",
      "   5.90729397   3.82036627   3.19922357   5.31759131   4.61491288\n",
      "   7.09008995  -0.29512184   3.79833597   7.48262594   0.62263306\n",
      "   3.66875217   5.72676788  10.87288516   4.58325685   2.75992214\n",
      "   6.12321872   4.90976808   6.69217447   4.21303568   6.36868346\n",
      "   3.5776767    1.10915689   5.86032893   3.49787792   5.68801271\n",
      "   4.30893372   0.84537009   3.3630379    6.24648976   1.47282606\n",
      "   0.57167496   2.60468969   7.3673533    3.86372528   3.53722604\n",
      "   4.92179758   2.77170071   2.98040114  -1.55957969   3.34650807\n",
      "   4.93724603   4.88790777   0.64888125   5.01851938   5.60035978\n",
      "   6.00371286   0.24285167   2.05980758   4.72317247   2.53987564\n",
      "   4.214215     2.08080191   8.3153087    7.29894735   7.98495425\n",
      "   5.70977294   3.50362092   3.94169236   2.47497955   0.28598299\n",
      "   4.19263002   3.34935011   7.01517998   2.69556059   1.82514569\n",
      "   6.34343421   0.41867484   0.88135017   6.04213607   6.78109569\n",
      "   7.12212586   2.63108924   4.33699728   6.27077119   6.15970679\n",
      "   5.18282147   1.60391884   1.96754298   8.37038903   6.28203449\n",
      "   5.35368185   6.26542862   5.09608248   4.35043839   5.71690386\n",
      "   2.06500196   5.40229446   4.04877056   6.68703773   2.36211172\n",
      "   3.00403723   2.54362095   2.5047738    2.49927314   1.19084284\n",
      "   3.07440812   5.46866343   2.85514869   6.49740068  -0.09940971\n",
      "   2.33449125   3.61724692   0.56327229   4.05225125   2.46371565\n",
      "  -0.20417848   2.37589298   5.64535083   4.72092549   7.30839549\n",
      "   1.62169514   3.38684327   6.32406069   1.30987654   2.6975131\n",
      "   4.5134817    3.91069842   6.17184765   5.02013835   4.75100191\n",
      "   1.4104084   -0.15887463   5.09536074   3.86267601   6.26562013\n",
      "  -1.81835413   9.0793357    4.89465415   5.14160121   1.58587136\n",
      "  -1.05322442   6.89045401   2.70291597   4.65558802   4.29906887\n",
      "  -8.25727339  -2.27357553  -5.69989102  -8.19816304  -7.54577332\n",
      "  -2.95553742  -2.74192462  -7.48788024  -4.70114988  -6.76152153\n",
      "  -6.38655481  -4.05463144  -7.62515611  -3.56596578  -2.80875494\n",
      "  -4.54727965   0.59869327  -8.40719397  -2.77165817  -6.75458042\n",
      "   1.75392765  -3.38735092  -2.91060632  -5.96058345  -2.30478747\n",
      "  -4.24821999  -1.54428104   0.09824093  -4.52779508  -2.89103206\n",
      "  -4.59470254  -7.3500585   -7.48917293  -3.50001405  -3.87078396\n",
      "  -4.90136401  -3.60442387  -4.62573436  -0.06044644  -9.71304978\n",
      "  -3.27940361  -4.90415593  -4.29220821  -3.52381556   0.73854932\n",
      "  -3.71234691  -3.38704512  -6.69462398  -3.3963543   -4.5997391\n",
      "  -3.41740848  -7.10278022  -6.66352184  -3.55771088  -4.62757355\n",
      "  -1.98755534  -1.85932095  -4.46228886  -4.65968206  -0.21726494\n",
      "  -4.22591876  -6.75690657  -6.36690344  -0.98795161  -0.32925568\n",
      "  -4.2875802   -2.75093958  -0.74314158  -2.85433451  -3.24033766\n",
      " -10.58529933  -0.76899261  -5.46557495  -1.81176587  -1.34877009\n",
      "  -7.10822971  -1.38184995  -2.17777931  -6.0600621   -0.83316127\n",
      "  -2.40642189  -4.64963823  -3.51047054  -3.70856931  -5.97393271\n",
      "  -4.59745808  -6.89562843  -1.76223912  -4.14826224  -5.23089578\n",
      "  -0.73297768 -10.17281885  -0.81464703  -0.33182309  -0.26281843\n",
      "  -3.05655521  -1.05989378  -6.099949    -1.14299712  -6.97129996\n",
      "  -1.17803879  -3.67116568  -4.49173713  -4.4869146    0.98254042\n",
      "  -3.1979218   -9.64492909  -6.01505965  -2.46885578  -3.79613485\n",
      "  -4.60646829  -8.38280616  -4.95207583  -7.65931128  -7.20721308\n",
      "  -2.16788659  -0.52229114  -4.01016677   1.06909728  -6.54229244\n",
      "  -1.01122833  -2.79063113  -2.05378474  -7.67877365  -6.71130721\n",
      "  -1.99763686  -3.1494064   -3.58030445  -5.09792129  -5.28404311\n",
      "  -2.54415619  -1.27754157  -2.15673902 -10.17371411  -4.44183182\n",
      "  -2.74149996  -4.14454675  -6.67940138  -7.67067634   0.29825608\n",
      "   2.17220723  -3.12057954  -3.03474576  -4.90056208  -1.1480078\n",
      "  -4.58309885  -1.69636403  -0.78378338  -1.72700811  -7.38405706]\n"
     ]
    }
   ],
   "source": [
    "K = kernel(X, X)\n",
    "mu_support, idx_support = svm_solver(K, y)\n",
    "b = compute_b(K, y, mu_support, idx_support)\n",
    "w = np.sum((mu_support * y[idx_support])[: , None] * X[idx_support], axis=0)"
   ]
  },
  {
   "cell_type": "markdown",
   "metadata": {},
   "source": [
    "- Q8: Check that contraints of the problem are now violated."
   ]
  },
  {
   "cell_type": "code",
   "execution_count": 151,
   "metadata": {
    "collapsed": false
   },
   "outputs": [
    {
     "name": "stdout",
     "output_type": "stream",
     "text": [
      "False\n"
     ]
    }
   ],
   "source": [
    "positive = y * (np.dot(X, w) + b*np.ones(n)) - 1 + 1e-5\n",
    "print(np.all(positive >= 0))"
   ]
  },
  {
   "cell_type": "markdown",
   "metadata": {},
   "source": [
    "## Part 1: Non separable case with cvxopt"
   ]
  },
  {
   "cell_type": "markdown",
   "metadata": {},
   "source": [
    "In practice it is very likely that the classes are not linearly separable.\n",
    "\n",
    "A very natural idea is to relax the constraints $y_{i}(w^\\top x_i + c) \\geq 1$.\n",
    "To do this, so called soft-margin SVM have been introduced using\n",
    "so called slack variables: $\\xi_{i}\\geq 0$. The problem becomes:\n",
    "\n",
    "$$\n",
    " y_{i}(w^\\top x_i + b) \\geq 1 - \\xi_i, \\; \\xi_i \\geq 0 \\enspace .\n",
    "$$\n",
    "\n",
    "Note that if $\\xi_i > 1$, the sample $x_{i}$ will be misclassified. To prevent\n",
    "this case to be too frequent, an idea is to minimize the sum of the $\\xi_{i}$.\n",
    "This leads to the following problem:\n",
    "\n",
    "$$\n",
    "(P_{s}):  \\left\\{\n",
    " \\begin{array}{ll}\n",
    " \\min_{(w,b,\\xi)} & \\frac{1}{2}w^{\\top}w + C \\sum_i \\xi_i\n",
    " \\\\\n",
    " \\mathrm{s.t.} & y_{i}(w^{\\top}x_{i}+b) \\geq 1 - \\xi_i\\\\\n",
    " \\mathrm{and} & -\\xi_i \\leq 0\n",
    " \\end{array}\n",
    " \\right.\n",
    "$$\n",
    "\n",
    "The constant $C$ controls the regularisation."
   ]
  },
  {
   "cell_type": "markdown",
   "metadata": {},
   "source": [
    "### Questions"
   ]
  },
  {
   "cell_type": "markdown",
   "metadata": {},
   "source": [
    "- Q9: Justify that $(P_{s})$ is a convex problem"
   ]
  },
  {
   "cell_type": "markdown",
   "metadata": {},
   "source": [
    "ANSWER HERE"
   ]
  },
  {
   "cell_type": "markdown",
   "metadata": {},
   "source": [
    "- Show that a dual problem of $(P_{s})$ reads:\n",
    "\n",
    "$$\n",
    "(\\mathcal{D}):\n",
    "\\left\\{\n",
    "\\begin{array}{lll}\n",
    "\\min_{\\mu} &\\frac{1}{2}\\mu^{\\top}GG^{\\top}\\mu-\\mu^{\\top}u\n",
    "\\\\\n",
    "\\mathrm{s.t.}& y^{\\top}\\mu = 0\n",
    "\\\\\n",
    "\\mathrm{et}& 0 \\leq \\mu \\leq C\n",
    "\\end{array}\n",
    "\\right .\n",
    "$$"
   ]
  },
  {
   "cell_type": "markdown",
   "metadata": {},
   "source": [
    "ANSWER HERE"
   ]
  },
  {
   "cell_type": "markdown",
   "metadata": {},
   "source": [
    "- Q10: Modify your code from Q4 to handle the non-separable case."
   ]
  },
  {
   "cell_type": "code",
   "execution_count": null,
   "metadata": {
    "collapsed": true
   },
   "outputs": [],
   "source": [
    "# TODO\n",
    "\n",
    "X, y = datasets(name='gaussian', n_points=300, sigma=1.7)\n",
    "\n",
    "K = kernel(X, X)\n",
    "# mu_support, idx_support = svm_solver(...)\n",
    "# b = compute_b(K, y, mu_support, idx_support)\n",
    "\n",
    "# plot_classif(X, y, mu_support, idx_support, b)"
   ]
  },
  {
   "cell_type": "markdown",
   "metadata": {},
   "source": [
    "- Q11: What is the influence of C on the number of support vectors? Justify this from an optimization stand point."
   ]
  },
  {
   "cell_type": "markdown",
   "metadata": {},
   "source": [
    "ANSWER HERE"
   ]
  },
  {
   "cell_type": "markdown",
   "metadata": {},
   "source": [
    "## Part 2: non-linear case with kernels"
   ]
  },
  {
   "cell_type": "markdown",
   "metadata": {},
   "source": [
    "Another scenario is when the boundary between classes is not linear.\n",
    "\n",
    "To cope with this the idea is to use kernels.\n",
    "\n",
    "- Q12: Denoting by $K(x_i, x_j)$ the dot product between samples show that dual problem and the decision function f(x) can be reformulated just using calls to $K$"
   ]
  },
  {
   "cell_type": "markdown",
   "metadata": {},
   "source": [
    "ANSWER HERE"
   ]
  },
  {
   "cell_type": "markdown",
   "metadata": {},
   "source": [
    "We will use the clowns dataset to evaluate this:"
   ]
  },
  {
   "cell_type": "code",
   "execution_count": null,
   "metadata": {
    "collapsed": false
   },
   "outputs": [],
   "source": [
    "X, y = datasets(name='clowns', n_points=200, sigma=0.7)\n",
    "\n",
    "plot_dataset(X, y)"
   ]
  },
  {
   "cell_type": "markdown",
   "metadata": {},
   "source": [
    "- Q13: Update your kernel function so it computes the Gaussian kernel:\n",
    "\n",
    "$$\n",
    "    K(x_i, x_j) = \\exp(-\\gamma \\| x_i - x_j \\|)\n",
    "$$\n",
    "\n",
    "where $\\gamma > 0$ is the kernel bandwidth."
   ]
  },
  {
   "cell_type": "code",
   "execution_count": null,
   "metadata": {
    "collapsed": true
   },
   "outputs": [],
   "source": [
    "# TODO\n",
    "\n",
    "from scipy import linalg\n",
    "\n",
    "def rbf_kernel(X1, X2):\n",
    "    n1 = X1.shape[0]\n",
    "    n2 = X2.shape[0]\n",
    "    K = np.empty((n1, n2))\n",
    "    gamma = 3.\n",
    "    for i in range(n1):\n",
    "        for j in range(n2):\n",
    "            K[i, j] = 0  # CHANGE THIS\n",
    "    return K"
   ]
  },
  {
   "cell_type": "markdown",
   "metadata": {},
   "source": [
    "Using the change above the follwing code should allow you to nicely separate the red from the blue dots"
   ]
  },
  {
   "cell_type": "code",
   "execution_count": null,
   "metadata": {
    "collapsed": false
   },
   "outputs": [],
   "source": [
    "X, y = datasets(name='clowns', n_points=200, sigma=0.7)\n",
    "\n",
    "K = rbf_kernel(X, X)\n",
    "mu_support, idx_support = svm_solver(K, y, C=1.)\n",
    "b = compute_b(K, y, mu_support, idx_support)\n",
    "\n",
    "plot_classif(X, y, mu_support, idx_support, b, kernel=rbf_kernel)"
   ]
  },
  {
   "cell_type": "markdown",
   "metadata": {},
   "source": [
    "## Part 3: Linear SVM without intercept"
   ]
  },
  {
   "cell_type": "markdown",
   "metadata": {},
   "source": [
    "The problem of the formuation of SVMs with the intercept term $b$ is that\n",
    "it leads to an annoying constraint in the dual, namely the $y^{t}\\mu = 0$.\n",
    "\n",
    "We will now see what we can do about it.\n",
    "\n",
    "Let's consider the problem\n",
    "\n",
    "$$\n",
    "(P'_{s}):  \\left\\{\n",
    " \\begin{array}{ll}\n",
    " \\min_{(w,\\xi)} & \\frac{1}{2}w^{\\top}w + C \\sum_i \\xi_i\n",
    " \\\\\n",
    " \\mathrm{s.t.} & y_{i}(w^{\\top}x_{i}) \\geq 1 - \\xi_i\\\\\n",
    " \\mathrm{and} & -\\xi_i \\leq 0\n",
    " \\end{array}\n",
    " \\right.\n",
    "$$"
   ]
  },
  {
   "cell_type": "markdown",
   "metadata": {},
   "source": [
    "- Q14: Show that a dual problem of $(P'_{s})$ is given by:\n",
    "\n",
    "$$\n",
    "(\\mathcal{D}):\n",
    "\\left\\{\n",
    "\\begin{array}{lll}\n",
    "\\min_{\\mu} &\\frac{1}{2}\\mu^{\\top}GG^{\\top}\\mu-\\mu^{\\top} 1_n\n",
    "\\\\\n",
    "\\mathrm{s.t.}& 0 \\leq \\mu \\leq C\n",
    "\\end{array}\n",
    "\\right .\n",
    "$$"
   ]
  },
  {
   "cell_type": "markdown",
   "metadata": {},
   "source": [
    "ANSWER HERE"
   ]
  },
  {
   "cell_type": "markdown",
   "metadata": {},
   "source": [
    "- Q15: Rewrite the dual in the form:\n",
    "\n",
    "\n",
    "$$\n",
    "(\\mathcal{D}): \\min_{\\mu} f(\\mu) + g(\\mu) .\n",
    "$$\n",
    "\n",
    "where $f$ is here a smooth function of $\\mu$ with L-Liptschitz gradient and $g$ is a non-smooth function that is separable, namely:\n",
    "\n",
    "$$\n",
    "g(\\mu) = \\sum_{i=1}^n g_i(\\mu_i)\n",
    "$$"
   ]
  },
  {
   "cell_type": "markdown",
   "metadata": {},
   "source": [
    "ANSWER HERE"
   ]
  },
  {
   "cell_type": "markdown",
   "metadata": {},
   "source": [
    "The dual in the later form can be readily optimized using the methods that you have been studying in this class:\n",
    "\n",
    "- Proximal gradient method with and without acceleration\n",
    "- L-BFGS-B\n",
    "- Coordinate descent"
   ]
  },
  {
   "cell_type": "markdown",
   "metadata": {},
   "source": [
    "- Q16: Implement:\n",
    "\n",
    "   - your own version of proximal gradient with and without acceleration\n",
    "   - your own version of coordinate descent\n",
    "   - an L-BFGS-B solver using `scipy.optimize.fmin_l_bfgs_b`\n",
    "\n",
    "Note: We restrict ourselves to linear kernel here.\n",
    "\n",
    "Note: To handle separating hyperplanes which do not pass throw zero (due to abscence of intercept)\n",
    "you will add a column of ones to X. You can use something like this:\n",
    "\n",
    "`X = np.concatenate((X, np.ones((len(X), 1))), axis=1)`"
   ]
  },
  {
   "cell_type": "markdown",
   "metadata": {},
   "source": [
    "You will test your implementations on the Gaussian blobs and evaluate the performance of your implementations in terms of computation time on problems where the matrix $G G^\\top$ can fit in memory.\n",
    "\n",
    "You should reuse as much as possible the convergence evaluation code that you used during the labs.\n",
    "\n",
    "For a coordinate descent method to be fast you need to have smart updates. You're expected to\n",
    "come up with these smart updates in the problem at hand.\n",
    "\n",
    "BONUS : With a smart implementation of the coordinate descent you should be able to scale the optimization to tens of thousands of samples ie cases where $G G^\\top$ does not fit in memory anymore.\n",
    "\n",
    "**IMPORTANT : This question Q16 is the most important and will constitute half of the final grade on the project !**"
   ]
  },
  {
   "cell_type": "code",
   "execution_count": null,
   "metadata": {
    "collapsed": true
   },
   "outputs": [],
   "source": [
    "# TODO\n",
    "\n",
    "from scipy.optimize import fmin_l_bfgs_b"
   ]
  }
 ],
 "metadata": {
  "anaconda-cloud": {},
  "kernelspec": {
   "display_name": "Python [default]",
   "language": "python",
   "name": "python3"
  },
  "language_info": {
   "codemirror_mode": {
    "name": "ipython",
    "version": 3
   },
   "file_extension": ".py",
   "mimetype": "text/x-python",
   "name": "python",
   "nbconvert_exporter": "python",
   "pygments_lexer": "ipython3",
   "version": "3.5.2"
  }
 },
 "nbformat": 4,
 "nbformat_minor": 0
}
